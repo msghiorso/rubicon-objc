{
 "cells": [
  {
   "cell_type": "markdown",
   "metadata": {},
   "source": [
    "## README test from Rubicon-ObjC"
   ]
  },
  {
   "cell_type": "code",
   "execution_count": 1,
   "metadata": {
    "collapsed": false
   },
   "outputs": [],
   "source": [
    "from ctypes import cdll\n",
    "from ctypes import util\n",
    "from rubicon.objc import ObjCClass, objc_method"
   ]
  },
  {
   "cell_type": "markdown",
   "metadata": {},
   "source": [
    "### Use ctypes to import a framework into the Python process"
   ]
  },
  {
   "cell_type": "code",
   "execution_count": 4,
   "metadata": {
    "collapsed": false
   },
   "outputs": [
    {
     "data": {
      "text/plain": [
       "<CDLL '/System/Library/Frameworks/Foundation.framework/Foundation', handle 102ae2580 at 0x106b0e160>"
      ]
     },
     "execution_count": 4,
     "metadata": {},
     "output_type": "execute_result"
    }
   ],
   "source": [
    "cdll.LoadLibrary(util.find_library('Foundation'))"
   ]
  },
  {
   "cell_type": "markdown",
   "metadata": {},
   "source": [
    "### Wrap an Objective C class contained in the framework\n",
    "There is an error in the README, the NSObject class must be exposed too, along with the NSURL class"
   ]
  },
  {
   "cell_type": "code",
   "execution_count": 8,
   "metadata": {
    "collapsed": true
   },
   "outputs": [],
   "source": [
    "NSURL = ObjCClass(\"NSURL\")\n",
    "NSObject = ObjCClass(\"NSObject\")"
   ]
  },
  {
   "cell_type": "markdown",
   "metadata": {},
   "source": [
    "Then instantiate the Objective C class, using the API that is exposed through Objective C. The Python method name is the concatenated version of the Objective C method descriptor, with colons replaced with underscores. So, the equivalent of [NSURL URLWithString:@\"http://pybee.org\"]; would be:"
   ]
  },
  {
   "cell_type": "code",
   "execution_count": 9,
   "metadata": {
    "collapsed": false
   },
   "outputs": [
    {
     "data": {
      "text/plain": [
       "<ObjCInstance 0x106b3acf8: NSURL at 4391369648>"
      ]
     },
     "execution_count": 9,
     "metadata": {},
     "output_type": "execute_result"
    }
   ],
   "source": [
    "NSURL.URLWithString_(\"http://pybee.org/\")"
   ]
  },
  {
   "cell_type": "markdown",
   "metadata": {},
   "source": [
    "To create a new Objective C class, define a Python class that has the methods you want to define, decorate it to indicate that it should be exposed to the Objective C runtime, and annotate it to describe the type of any arguments that aren't of type ``id``:"
   ]
  },
  {
   "cell_type": "code",
   "execution_count": 10,
   "metadata": {
    "collapsed": false
   },
   "outputs": [],
   "source": [
    "class Handler(NSObject):\n",
    "    @objc_method\n",
    "    def initWithValue_(self, v: int):\n",
    "        self.value = v\n",
    "        return self\n",
    "    \n",
    "    @objc_method\n",
    "    def pokeWithValue_(self, v: int) -> None:\n",
    "        print(\"Poking with\", v)\n",
    "        print(\"Internal value is\", self.value)"
   ]
  },
  {
   "cell_type": "markdown",
   "metadata": {},
   "source": [
    "### Then use the class:"
   ]
  },
  {
   "cell_type": "code",
   "execution_count": 13,
   "metadata": {
    "collapsed": false
   },
   "outputs": [
    {
     "name": "stdout",
     "output_type": "stream",
     "text": [
      "Poking with 37\n",
      "Internal value is 42\n"
     ]
    }
   ],
   "source": [
    "my_handler = Handler.alloc().initWithValue_(42)\n",
    "my_handler.pokeWithValue_(37)"
   ]
  }
 ],
 "metadata": {
  "anaconda-cloud": {},
  "kernelspec": {
   "display_name": "Python [conda env:python35]",
   "language": "python",
   "name": "conda-env-python35-py"
  },
  "language_info": {
   "codemirror_mode": {
    "name": "ipython",
    "version": 3
   },
   "file_extension": ".py",
   "mimetype": "text/x-python",
   "name": "python",
   "nbconvert_exporter": "python",
   "pygments_lexer": "ipython3",
   "version": "3.5.2"
  }
 },
 "nbformat": 4,
 "nbformat_minor": 1
}
