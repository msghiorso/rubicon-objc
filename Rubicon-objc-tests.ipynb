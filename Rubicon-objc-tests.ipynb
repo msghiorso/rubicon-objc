{
 "cells": [
  {
   "cell_type": "code",
   "execution_count": 1,
   "metadata": {
    "collapsed": true
   },
   "outputs": [],
   "source": [
    "from ctypes import *\n",
    "from ctypes import util\n",
    "from decimal import Decimal\n",
    "from enum import Enum\n",
    "import math\n",
    "import unittest"
   ]
  },
  {
   "cell_type": "code",
   "execution_count": 2,
   "metadata": {
    "collapsed": true
   },
   "outputs": [],
   "source": [
    "try:\n",
    "    import platform\n",
    "    OSX_VERSION = tuple(int(v) for v in platform.mac_ver()[0].split('.')[:2])\n",
    "except:\n",
    "    OSX_VERSION = None"
   ]
  },
  {
   "cell_type": "code",
   "execution_count": 3,
   "metadata": {
    "collapsed": true
   },
   "outputs": [],
   "source": [
    "from rubicon.objc import ObjCClass, objc_method, objc_classmethod, objc_property, NSEdgeInsets, NSEdgeInsetsMake"
   ]
  },
  {
   "cell_type": "markdown",
   "metadata": {},
   "source": [
    "Library was compiled using make in the project root folder and then copied in /usr/local/lib"
   ]
  },
  {
   "cell_type": "code",
   "execution_count": 4,
   "metadata": {
    "collapsed": false
   },
   "outputs": [
    {
     "data": {
      "text/plain": [
       "<CDLL '/usr/local/lib/librubiconharness.dylib', handle 104c00bc0 at 0x104e65320>"
      ]
     },
     "execution_count": 4,
     "metadata": {},
     "output_type": "execute_result"
    }
   ],
   "source": [
    "harnesslib = util.find_library('rubiconharness')\n",
    "if harnesslib is None:\n",
    "    raise RuntimeError(\"Couldn't load Rubicon test harness library. Have you set DYLD_LIBRARY_PATH?\")\n",
    "cdll.LoadLibrary(harnesslib)"
   ]
  },
  {
   "cell_type": "code",
   "execution_count": 5,
   "metadata": {
    "collapsed": false
   },
   "outputs": [
    {
     "name": "stdout",
     "output_type": "stream",
     "text": [
      "A field on an instance can be accessed and mutated\n",
      "22 22\n",
      "33 33\n",
      "8888 8888\n",
      "9999 9999\n"
     ]
    }
   ],
   "source": [
    "def test_field():\n",
    "    print (\"A field on an instance can be accessed and mutated\")\n",
    "    Example = ObjCClass('Example')\n",
    "    \n",
    "    obj = Example.alloc().init()\n",
    "    \n",
    "    print (obj.baseIntField, 22)\n",
    "    print (obj.intField, 33)\n",
    "    \n",
    "    obj.baseIntField = 8888\n",
    "    obj.intField = 9999\n",
    "    \n",
    "    print (obj.baseIntField, 8888)\n",
    "    print (obj.intField, 9999)\n",
    "test_field()"
   ]
  },
  {
   "cell_type": "code",
   "execution_count": 6,
   "metadata": {
    "collapsed": false
   },
   "outputs": [
    {
     "name": "stdout",
     "output_type": "stream",
     "text": [
      "An instance method can be invoked.\n",
      "22 22\n",
      "33 33\n",
      "8888 8888\n",
      "9999 9999\n"
     ]
    }
   ],
   "source": [
    "def test_method():\n",
    "    print (\"An instance method can be invoked.\")\n",
    "    Example = ObjCClass('Example')\n",
    "\n",
    "    obj = Example.alloc().init()\n",
    "\n",
    "    print (obj.accessBaseIntField(), 22)\n",
    "    print (obj.accessIntField(), 33)\n",
    "\n",
    "    obj.mutateBaseIntFieldWithValue_(8888)\n",
    "    obj.mutateIntFieldWithValue_(9999)\n",
    "\n",
    "    print (obj.accessBaseIntField(), 8888)\n",
    "    print (obj.accessIntField(), 9999)\n",
    "test_method()"
   ]
  },
  {
   "cell_type": "code",
   "execution_count": 7,
   "metadata": {
    "collapsed": false
   },
   "outputs": [
    {
     "name": "stdout",
     "output_type": "stream",
     "text": [
      "A static field on a class can be accessed and mutated\n",
      "1 1\n",
      "11 11\n",
      "1188 1188\n",
      "1199 1199\n"
     ]
    }
   ],
   "source": [
    "def test_static_field():\n",
    "    print (\"A static field on a class can be accessed and mutated\")\n",
    "    Example = ObjCClass('Example')\n",
    "\n",
    "    Example.mutateStaticBaseIntFieldWithValue_(1)\n",
    "    Example.mutateStaticIntFieldWithValue_(11)\n",
    "\n",
    "    print(Example.staticBaseIntField, 1)\n",
    "    print(Example.staticIntField, 11)\n",
    "\n",
    "    Example.staticBaseIntField = 1188\n",
    "    Example.staticIntField = 1199\n",
    "\n",
    "    print(Example.staticBaseIntField, 1188)\n",
    "    print(Example.staticIntField, 1199)\n",
    "test_static_field()"
   ]
  },
  {
   "cell_type": "code",
   "execution_count": 8,
   "metadata": {
    "collapsed": false
   },
   "outputs": [
    {
     "name": "stdout",
     "output_type": "stream",
     "text": [
      "A static method on a class can be invoked.\n",
      "2288 2288\n",
      "2299 2299\n"
     ]
    }
   ],
   "source": [
    "def test_static_method():\n",
    "    print (\"A static method on a class can be invoked.\")\n",
    "    Example = ObjCClass('Example')\n",
    "\n",
    "    Example.mutateStaticBaseIntFieldWithValue_(2288)\n",
    "    Example.mutateStaticIntFieldWithValue_(2299)\n",
    "\n",
    "    print(Example.accessStaticBaseIntField(), 2288)\n",
    "    print(Example.accessStaticIntField(), 2299)\n",
    "test_static_method()"
   ]
  },
  {
   "cell_type": "code",
   "execution_count": 9,
   "metadata": {
    "collapsed": false
   },
   "outputs": [
    {
     "name": "stdout",
     "output_type": "stream",
     "text": [
      "A method that looks like a mutator doesn't confuse issues.\n",
      "AttributeError caught\n",
      "37 37\n"
     ]
    }
   ],
   "source": [
    "def test_mutator_like_method():\n",
    "    print (\"A method that looks like a mutator doesn't confuse issues.\")\n",
    "    Example = ObjCClass('Example')\n",
    "\n",
    "    obj1 = Example.alloc().init()\n",
    "\n",
    "    # setSpecialValue: looks like it might be a mutator\n",
    "    # for a specialValue property, but this property doesn't exist.\n",
    "\n",
    "    # We can invoke the method directly...\n",
    "    obj1.setSpecialValue_(42)\n",
    "\n",
    "    # ... but retrieving like a property is an error\n",
    "    # with self.assertRaises(AttributeError):\n",
    "    try:\n",
    "        obj1.specialValue\n",
    "    except AttributeError:\n",
    "        print ('AttributeError caught')\n",
    "\n",
    "    # ...until you set it explicitly...\n",
    "    obj1.specialValue = 37\n",
    "\n",
    "    # ...at which point it's fair game to be retrieved.\n",
    "    print(obj1.specialValue, 37)\n",
    "test_mutator_like_method()"
   ]
  },
  {
   "cell_type": "code",
   "execution_count": 10,
   "metadata": {
    "collapsed": false
   },
   "outputs": [
    {
     "name": "stdout",
     "output_type": "stream",
     "text": [
      "A Name Error is raised if a class doesn't exist.\n",
      "NameError caught\n",
      "RuntimeError caught\n"
     ]
    }
   ],
   "source": [
    "def test_non_existent_class():\n",
    "    print (\"A Name Error is raised if a class doesn't exist.\")\n",
    "\n",
    "    # If a class doesn't exist, raise NameError\n",
    "    #with self.assertRaises(NameError):\n",
    "    try:\n",
    "        ObjCClass('DoesNotExist')\n",
    "    except NameError:\n",
    "        print('NameError caught')\n",
    "\n",
    "    # If you try to create a class directly from a pointer, and\n",
    "    # the pointer isn't valid, raise an error.\n",
    "    #with self.assertRaises(RuntimeError):\n",
    "    try:\n",
    "        ObjCClass(0)\n",
    "    except RuntimeError:\n",
    "        print ('RuntimeError caught')\n",
    "test_non_existent_class()"
   ]
  },
  {
   "cell_type": "code",
   "execution_count": 11,
   "metadata": {
    "collapsed": false
   },
   "outputs": [
    {
     "name": "stdout",
     "output_type": "stream",
     "text": [
      "An attribute error is raised if you invoke a non-existent field.\n",
      "AttributeError caught\n",
      "AttributeError caught\n"
     ]
    }
   ],
   "source": [
    "def test_non_existent_field():\n",
    "    print (\"An attribute error is raised if you invoke a non-existent field.\")\n",
    "    Example = ObjCClass('Example')\n",
    "\n",
    "    obj1 = Example.alloc().init()\n",
    "\n",
    "    # Non-existent fields raise an error.\n",
    "    #with self.assertRaises(AttributeError):\n",
    "    try:\n",
    "        obj1.field_doesnt_exist\n",
    "    except AttributeError:\n",
    "        print ('AttributeError caught')\n",
    "\n",
    "    # Cache warming doesn't affect anything.\n",
    "    #with self.assertRaises(AttributeError):\n",
    "    try:\n",
    "        obj1.field_doesnt_exist\n",
    "    except AttributeError:\n",
    "        print ('AttributeError caught')\n",
    "test_non_existent_field()"
   ]
  },
  {
   "cell_type": "code",
   "execution_count": 12,
   "metadata": {
    "collapsed": false
   },
   "outputs": [
    {
     "name": "stdout",
     "output_type": "stream",
     "text": [
      "An attribute error is raised if you invoke a non-existent method.\n",
      "AttributeError caught\n",
      "AttributeError caught\n"
     ]
    }
   ],
   "source": [
    "def test_non_existent_method():\n",
    "    print (\"An attribute error is raised if you invoke a non-existent method.\")\n",
    "    Example = ObjCClass('Example')\n",
    "\n",
    "    obj1 = Example.alloc().init()\n",
    "\n",
    "    # Non-existent methods raise an error.\n",
    "    #with self.assertRaises(AttributeError):\n",
    "    try:\n",
    "        obj1.method_doesnt_exist()\n",
    "    except AttributeError:\n",
    "        print ('AttributeError caught')\n",
    "\n",
    "    # Cache warming doesn't affect anything.\n",
    "    #with self.assertRaises(AttributeError):\n",
    "    try:\n",
    "        obj1.method_doesnt_exist()\n",
    "    except AttributeError:\n",
    "        print ('AttributeError caught')\n",
    "test_non_existent_method()"
   ]
  },
  {
   "cell_type": "code",
   "execution_count": 13,
   "metadata": {
    "collapsed": false
   },
   "outputs": [
    {
     "name": "stdout",
     "output_type": "stream",
     "text": [
      "An attribute error is raised if you invoke a non-existent static field.\n",
      "AttributeError caught\n",
      "AttributeError caught\n"
     ]
    }
   ],
   "source": [
    "def test_non_existent_static_field():\n",
    "    print(\"An attribute error is raised if you invoke a non-existent static field.\")\n",
    "    Example = ObjCClass('Example')\n",
    "\n",
    "    # Non-existent fields raise an error.\n",
    "    #with self.assertRaises(AttributeError):\n",
    "    try:\n",
    "        Example.static_field_doesnt_exist\n",
    "    except AttributeError:\n",
    "        print ('AttributeError caught')\n",
    "\n",
    "    # Cache warming doesn't affect anything.\n",
    "    #with self.assertRaises(AttributeError):\n",
    "    try:\n",
    "        Example.static_field_doesnt_exist\n",
    "    except AttributeError:\n",
    "        print ('AttributeError caught')\n",
    "test_non_existent_static_field()"
   ]
  },
  {
   "cell_type": "code",
   "execution_count": 14,
   "metadata": {
    "collapsed": false
   },
   "outputs": [
    {
     "name": "stdout",
     "output_type": "stream",
     "text": [
      "An attribute error is raised if you invoke a non-existent static method.\n",
      "AttributeError caught\n",
      "AttributeError caught\n"
     ]
    }
   ],
   "source": [
    "def test_non_existent_static_method():\n",
    "    print(\"An attribute error is raised if you invoke a non-existent static method.\")\n",
    "    Example = ObjCClass('Example')\n",
    "\n",
    "    # Non-existent methods raise an error.\n",
    "    #with self.assertRaises(AttributeError):\n",
    "    try:\n",
    "        Example.static_method_doesnt_exist()\n",
    "    except AttributeError:\n",
    "        print ('AttributeError caught')\n",
    "\n",
    "    # Cache warming doesn't affect anything.\n",
    "    #with self.assertRaises(AttributeError):\n",
    "    try:\n",
    "        Example.static_method_doesnt_exist()\n",
    "    except AttributeError:\n",
    "        print ('AttributeError caught')\n",
    "test_non_existent_static_method()"
   ]
  },
  {
   "cell_type": "code",
   "execution_count": 15,
   "metadata": {
    "collapsed": false
   },
   "outputs": [
    {
     "name": "stdout",
     "output_type": "stream",
     "text": [
      "Check that the right constructor is activated based on arguments used\n",
      "22 22\n",
      "33 33\n",
      "44 44\n",
      "2242 2242\n",
      "3342 3342\n",
      "3337 3337\n",
      "AttributeError caught\n"
     ]
    }
   ],
   "source": [
    "def test_polymorphic_constructor():\n",
    "    print(\"Check that the right constructor is activated based on arguments used\")\n",
    "    Example = ObjCClass('Example')\n",
    "\n",
    "    obj1 = Example.alloc().init()\n",
    "    obj2 = Example.alloc().initWithIntValue_(2242)\n",
    "    obj3 = Example.alloc().initWithBaseIntValue_intValue_(3342, 3337)\n",
    "\n",
    "    print(obj1.baseIntField, 22)\n",
    "    print(obj1.intField, 33)\n",
    "\n",
    "    print(obj2.baseIntField, 44)\n",
    "    print(obj2.intField, 2242)\n",
    "\n",
    "    print(obj3.baseIntField, 3342)\n",
    "    print(obj3.intField, 3337)\n",
    "\n",
    "    # Protected constructors can't be invoked\n",
    "    #with self.assertRaises(AttributeError):\n",
    "    try:\n",
    "        Example.alloc().initWithString_(\"Hello\")\n",
    "    except AttributeError:\n",
    "        print ('AttributeError caught')\n",
    "test_polymorphic_constructor()"
   ]
  },
  {
   "cell_type": "code",
   "execution_count": 16,
   "metadata": {
    "collapsed": false
   },
   "outputs": [
    {
     "name": "stdout",
     "output_type": "stream",
     "text": [
      "An instance field/method cannot be accessed from the static context\n",
      "AttributeError caught\n",
      "AttributeError caught\n"
     ]
    }
   ],
   "source": [
    "def test_static_access_non_static():\n",
    "    print(\"An instance field/method cannot be accessed from the static context\")\n",
    "    Example = ObjCClass('Example')\n",
    "\n",
    "    obj = Example.alloc().init()\n",
    "\n",
    "    #with self.assertRaises(AttributeError):\n",
    "    try:\n",
    "        obj.staticIntField\n",
    "    except AttributeError:\n",
    "        print ('AttributeError caught')\n",
    "\n",
    "    #with self.assertRaises(AttributeError):\n",
    "    try:\n",
    "        obj.get_staticIntField()\n",
    "    except AttributeError:\n",
    "        print ('AttributeError caught')\n",
    "test_static_access_non_static()"
   ]
  },
  {
   "cell_type": "code",
   "execution_count": 17,
   "metadata": {
    "collapsed": false
   },
   "outputs": [
    {
     "name": "stdout",
     "output_type": "stream",
     "text": [
      "A static field/method cannot be accessed from an instance context\n",
      "AttributeError caught\n",
      "AttributeError caught\n"
     ]
    }
   ],
   "source": [
    "def test_non_static_access_static():\n",
    "    print(\"A static field/method cannot be accessed from an instance context\")\n",
    "    Example = ObjCClass('Example')\n",
    "\n",
    "    #with self.assertRaises(AttributeError):\n",
    "    try:\n",
    "        Example.intField\n",
    "    except AttributeError:\n",
    "        print ('AttributeError caught')\n",
    "\n",
    "    #with self.assertRaises(AttributeError):\n",
    "    try:\n",
    "        Example.accessIntField()\n",
    "    except AttributeError:\n",
    "        print ('AttributeError caught')\n",
    "test_non_static_access_static()"
   ]
  },
  {
   "cell_type": "code",
   "execution_count": 18,
   "metadata": {
    "collapsed": false
   },
   "outputs": [
    {
     "name": "stdout",
     "output_type": "stream",
     "text": [
      "A method with a string argument can be passed.\n",
      "WaggaWagga WaggaWagga\n"
     ]
    }
   ],
   "source": [
    "def test_string_argument():\n",
    "    print(\"A method with a string argument can be passed.\")\n",
    "    Example = ObjCClass('Example')\n",
    "    example = Example.alloc().init()\n",
    "    print(example.duplicateString_(\"Wagga\"), \"WaggaWagga\")\n",
    "test_string_argument()"
   ]
  },
  {
   "cell_type": "code",
   "execution_count": 19,
   "metadata": {
    "collapsed": false
   },
   "outputs": [
    {
     "name": "stdout",
     "output_type": "stream",
     "text": [
      "An enumerated type can be used as an argument.\n",
      "22 22\n",
      "33 33\n",
      "8888 8888\n",
      "9999 9999\n",
      "3333 3333\n",
      "4444 4444\n"
     ]
    }
   ],
   "source": [
    "def test_enum_argument():\n",
    "    print(\"An enumerated type can be used as an argument.\")\n",
    "    Example = ObjCClass('Example')\n",
    "\n",
    "    obj = Example.alloc().init()\n",
    "\n",
    "    print(obj.accessBaseIntField(), 22)\n",
    "    print(obj.accessIntField(), 33)\n",
    "\n",
    "    class MyEnum(Enum):\n",
    "        value1 = 8888\n",
    "        value2 = 9999\n",
    "        value3 = 3333\n",
    "        value4 = 4444\n",
    "\n",
    "    obj.mutateBaseIntFieldWithValue_(MyEnum.value1)\n",
    "    obj.mutateIntFieldWithValue_(MyEnum.value2)\n",
    "\n",
    "    print(obj.accessBaseIntField(), MyEnum.value1.value)\n",
    "    print(obj.accessIntField(), MyEnum.value2.value)\n",
    "\n",
    "    obj.baseIntField = MyEnum.value3\n",
    "    obj.intField = MyEnum.value4\n",
    "\n",
    "    print(obj.accessBaseIntField(), MyEnum.value3.value)\n",
    "    print(obj.accessIntField(), MyEnum.value4.value)\n",
    "test_enum_argument()"
   ]
  },
  {
   "cell_type": "code",
   "execution_count": 20,
   "metadata": {
    "collapsed": false
   },
   "outputs": [
    {
     "name": "stdout",
     "output_type": "stream",
     "text": [
      "If a method or field returns a string, you get a Python string back\n",
      "This is an ObjC Example object This is an ObjC Example object\n"
     ]
    }
   ],
   "source": [
    "def test_string_return():\n",
    "    print(\"If a method or field returns a string, you get a Python string back\")\n",
    "    Example = ObjCClass('Example')\n",
    "    example = Example.alloc().init()\n",
    "    print(example.toString(), \"This is an ObjC Example object\")\n",
    "test_string_return()"
   ]
  },
  {
   "cell_type": "code",
   "execution_count": 21,
   "metadata": {
    "collapsed": false
   },
   "outputs": [
    {
     "name": "stdout",
     "output_type": "stream",
     "text": [
      "If a method or field returns a *constant* string, you get a Python string back\n",
      "%-) %-)\n"
     ]
    }
   ],
   "source": [
    "def test_constant_string_return():\n",
    "    print(\"If a method or field returns a *constant* string, you get a Python string back\")\n",
    "    Example = ObjCClass('Example')\n",
    "    example = Example.alloc().init()\n",
    "    print(example.smiley(), \"%-)\")\n",
    "test_constant_string_return()"
   ]
  },
  {
   "cell_type": "code",
   "execution_count": 22,
   "metadata": {
    "collapsed": false
   },
   "outputs": [
    {
     "name": "stdout",
     "output_type": "stream",
     "text": [
      "If a method or field returns a NSNumber, it is converted back to native types\n",
      "42 42\n",
      "6.2831854820251465 6.283185307179586 5\n"
     ]
    }
   ],
   "source": [
    "def test_number_return():\n",
    "    print(\"If a method or field returns a NSNumber, it is converted back to native types\")\n",
    "    Example = ObjCClass('Example')\n",
    "    example = Example.alloc().init()\n",
    "\n",
    "    print(example.theAnswer(), 42)\n",
    "    print(example.twopi(), 2.0 * math.pi, 5)\n",
    "test_number_return()"
   ]
  },
  {
   "cell_type": "code",
   "execution_count": 23,
   "metadata": {
    "collapsed": false
   },
   "outputs": [
    {
     "name": "stdout",
     "output_type": "stream",
     "text": [
      "A method with a float arguments can be handled.\n",
      "2.25 2.25\n"
     ]
    }
   ],
   "source": [
    "def test_float_method():\n",
    "    print(\"A method with a float arguments can be handled.\")\n",
    "    Example = ObjCClass('Example')\n",
    "    example = Example.alloc().init()\n",
    "    print(example.areaOfSquare_(1.5), 2.25)\n",
    "test_float_method()"
   ]
  },
  {
   "cell_type": "code",
   "execution_count": 24,
   "metadata": {
    "collapsed": false
   },
   "outputs": [
    {
     "name": "stdout",
     "output_type": "stream",
     "text": [
      "A method with a double arguments can be handled.\n",
      "4.71238898038469 4.71238898038469 5\n"
     ]
    }
   ],
   "source": [
    "def test_double_method():\n",
    "    print(\"A method with a double arguments can be handled.\")\n",
    "    Example = ObjCClass('Example')\n",
    "    example = Example.alloc().init()\n",
    "    print(example.areaOfCircle_(1.5), 1.5 * math.pi, 5)\n",
    "test_double_method()"
   ]
  },
  {
   "cell_type": "code",
   "execution_count": 25,
   "metadata": {
    "collapsed": false
   },
   "outputs": [
    {
     "name": "stdout",
     "output_type": "stream",
     "text": [
      "A method with a NSDecimalNumber arguments can be handled.\n",
      "6 6.0\n",
      "True Result should be a Decimal\n"
     ]
    }
   ],
   "source": [
    "def test_decimal_method():\n",
    "    print(\"A method with a NSDecimalNumber arguments can be handled.\")\n",
    "    Example = ObjCClass('Example')\n",
    "    example = Example.alloc().init()\n",
    "\n",
    "    result = example.areaOfTriangleWithWidth_andHeight_(Decimal('3.0'), Decimal('4.0'))\n",
    "    print(result, Decimal('6.0'))\n",
    "    print(isinstance(result, Decimal), 'Result should be a Decimal')\n",
    "test_decimal_method()"
   ]
  },
  {
   "cell_type": "code",
   "execution_count": 26,
   "metadata": {
    "collapsed": false
   },
   "outputs": [
    {
     "name": "stdout",
     "output_type": "stream",
     "text": [
      "If a method or field returns an object, you get an instance of that type returned\n",
      "This is thing 2 This is thing 2\n"
     ]
    }
   ],
   "source": [
    "def test_object_return():\n",
    "    print(\"If a method or field returns an object, you get an instance of that type returned\")\n",
    "    Example = ObjCClass('Example')\n",
    "    example = Example.alloc().init()\n",
    "\n",
    "    Thing = ObjCClass('Thing')\n",
    "    thing = Thing.alloc().initWithName_value_('This is thing', 2)\n",
    "\n",
    "    example.thing = thing\n",
    "\n",
    "    the_thing = example.thing\n",
    "    print(the_thing.toString(), \"This is thing 2\")\n",
    "test_object_return()"
   ]
  },
  {
   "cell_type": "code",
   "execution_count": 27,
   "metadata": {
    "collapsed": false
   },
   "outputs": [
    {
     "name": "stdout",
     "output_type": "stream",
     "text": [
      "If you define a class name twice in the same runtime, you get an error.\n",
      "RuntimeError caught\n"
     ]
    }
   ],
   "source": [
    "def test_duplicate_class_registration():\n",
    "    print(\"If you define a class name twice in the same runtime, you get an error.\")\n",
    "\n",
    "    NSObject = ObjCClass('NSObject')\n",
    "\n",
    "    # First definition should work.\n",
    "    class MyClass(NSObject):\n",
    "        pass\n",
    "\n",
    "    # Second definition will raise an error.\n",
    "    # Without protection, this is a segfault.\n",
    "    #with self.assertRaises(RuntimeError):\n",
    "    try:\n",
    "        class MyClass(NSObject):\n",
    "            pass\n",
    "    except RuntimeError:\n",
    "        print ('RuntimeError caught')\n",
    "test_duplicate_class_registration()"
   ]
  },
  {
   "cell_type": "code",
   "execution_count": 28,
   "metadata": {
    "collapsed": false
   },
   "outputs": [
    {
     "name": "stdout",
     "output_type": "stream",
     "text": [
      "An ObjC protocol implementation can be defined in Python.\n",
      "5 5\n",
      "10 10\n",
      "This is an ObjC Example object peeked This is an ObjC Example object peeked\n",
      "52 52\n",
      "This is an ObjC Example object poked This is an ObjC Example object poked\n",
      "47 47\n",
      "Alea iacta est. should be: Alea iacta est.\n",
      ".tse atcai aelA should be: .tse atcai aelA\n",
      "Fiddled with it Fiddled with it\n",
      "99 99\n"
     ]
    }
   ],
   "source": [
    "def test_interface():\n",
    "    print(\"An ObjC protocol implementation can be defined in Python.\")\n",
    "\n",
    "    results = {}\n",
    "\n",
    "    NSObject = ObjCClass('NSObject')\n",
    "\n",
    "    class Handler(NSObject):\n",
    "        @objc_method\n",
    "        def initWithValue_(self, value: int):\n",
    "            self.value = value\n",
    "            return self\n",
    "\n",
    "        @objc_method\n",
    "        def peek_withValue_(self, example, value: int) -> None:\n",
    "            results['string'] = example.toString() + \" peeked\"\n",
    "            results['int'] = value + self.value\n",
    "\n",
    "        @objc_method\n",
    "        def poke_withValue_(self, example, value: int) -> None:\n",
    "            results['string'] = example.toString() + \" poked\"\n",
    "            results['int'] = value + self.value\n",
    "\n",
    "        @objc_method\n",
    "        def reverse_(self, input):\n",
    "            return ''.join(reversed(input))\n",
    "\n",
    "        @objc_method\n",
    "        def message(self):\n",
    "            return \"Alea iacta est.\"\n",
    "\n",
    "        @objc_classmethod\n",
    "        def fiddle_(cls, value: int) -> None:\n",
    "            results['string'] = \"Fiddled with it\"\n",
    "            results['int'] = value\n",
    "\n",
    "    # Create two handler instances so we can check the right one\n",
    "    # is being invoked.\n",
    "    handler1 = Handler.alloc().initWithValue_(5)\n",
    "    handler2 = Handler.alloc().initWithValue_(10)\n",
    "\n",
    "    # Create an Example object, and register a handler with it.\n",
    "    Example = ObjCClass('Example')\n",
    "    example = Example.alloc().init()\n",
    "    example.callback = handler2\n",
    "\n",
    "    # Check some Python-side attributes\n",
    "    print(handler1.value, 5)\n",
    "    print(handler2.value, 10)\n",
    "\n",
    "    # Invoke the callback; check that the results have been peeked as expected\n",
    "    example.testPeek_(42)\n",
    "\n",
    "    print(results['string'], 'This is an ObjC Example object peeked')\n",
    "    print(results['int'], 52)\n",
    "\n",
    "    example.testPoke_(37)\n",
    "\n",
    "    print(results['string'], 'This is an ObjC Example object poked')\n",
    "    print(results['int'], 47)\n",
    "\n",
    "    print(example.getMessage() + ' should be: Alea iacta est.')\n",
    "\n",
    "    print(example.reverseIt_('Alea iacta est.') + ' should be: .tse atcai aelA')\n",
    "\n",
    "    Handler.fiddle_(99)\n",
    "\n",
    "    print(results['string'], 'Fiddled with it')\n",
    "    print(results['int'], 99)\n",
    "test_interface()"
   ]
  },
  {
   "cell_type": "code",
   "execution_count": 29,
   "metadata": {
    "collapsed": false
   },
   "outputs": [
    {
     "name": "stdout",
     "output_type": "stream",
     "text": [
      "A Python class can have ObjC properties with synthezied getters and setters.\n",
      "box.url is none\n",
      "https should be https\n",
      "box.getSchemeIfPresent() is None\n"
     ]
    }
   ],
   "source": [
    "def test_class_properties():\n",
    "    print(\"A Python class can have ObjC properties with synthezied getters and setters.\")\n",
    "\n",
    "    NSObject = ObjCClass('NSObject')\n",
    "    NSURL = ObjCClass('NSURL')\n",
    "\n",
    "    class URLBox(NSObject):\n",
    "\n",
    "        # takes no type: All properties are pointers\n",
    "        url = objc_property()\n",
    "\n",
    "        @objc_method\n",
    "        def getSchemeIfPresent(self):\n",
    "            if self.url is not None:\n",
    "                return self.url.scheme\n",
    "            return None\n",
    "\n",
    "    box = URLBox.alloc().init()\n",
    "\n",
    "    # Default property value is None\n",
    "    if box.url == None:\n",
    "        print('box.url is none')\n",
    "\n",
    "    # Assign an object via synthesized property setter and call method that uses synthesized property getter\n",
    "    url = NSURL.alloc().initWithString_('https://www.google.com')\n",
    "    box.url = url\n",
    "    print(box.getSchemeIfPresent() + ' should be https')\n",
    "\n",
    "    # Assign None to dealloc property and see if method returns expected None\n",
    "    box.url = None\n",
    "    if box.getSchemeIfPresent() == None:\n",
    "        print('box.getSchemeIfPresent() is None')\n",
    "test_class_properties()"
   ]
  },
  {
   "cell_type": "code",
   "execution_count": 30,
   "metadata": {
    "collapsed": false
   },
   "outputs": [
    {
     "name": "stdout",
     "output_type": "stream",
     "text": [
      "Python can invoke NSEdgeInsetsMake to create NSEdgeInsets.\n",
      "<rubicon.objc.types.NSEdgeInsets object at 0x104ebea60> <rubicon.objc.types.NSEdgeInsets object at 0x104ebeae8>\n",
      "0.0 0.0\n",
      "1.1 1.1\n",
      "2.2 2.2\n",
      "3.3 3.3\n"
     ]
    }
   ],
   "source": [
    "def test_function_NSEdgeInsetsMake():\n",
    "    print(\"Python can invoke NSEdgeInsetsMake to create NSEdgeInsets.\")\n",
    "\n",
    "    insets = NSEdgeInsets(0.0, 1.1, 2.2, 3.3)\n",
    "    other_insets = NSEdgeInsetsMake(0.0, 1.1, 2.2, 3.3)\n",
    "\n",
    "    # structs are NOT equal\n",
    "    print(insets, other_insets)\n",
    "\n",
    "    # but their values are\n",
    "    print(insets.top, other_insets.top)\n",
    "    print(insets.left, other_insets.left)\n",
    "    print(insets.bottom, other_insets.bottom)\n",
    "    print(insets.right, other_insets.right)\n",
    "test_function_NSEdgeInsetsMake()"
   ]
  },
  {
   "cell_type": "code",
   "execution_count": null,
   "metadata": {
    "collapsed": true
   },
   "outputs": [],
   "source": []
  }
 ],
 "metadata": {
  "anaconda-cloud": {},
  "kernelspec": {
   "display_name": "Python [conda env:python35]",
   "language": "python",
   "name": "conda-env-python35-py"
  },
  "language_info": {
   "codemirror_mode": {
    "name": "ipython",
    "version": 3
   },
   "file_extension": ".py",
   "mimetype": "text/x-python",
   "name": "python",
   "nbconvert_exporter": "python",
   "pygments_lexer": "ipython3",
   "version": "3.5.2"
  }
 },
 "nbformat": 4,
 "nbformat_minor": 1
}
